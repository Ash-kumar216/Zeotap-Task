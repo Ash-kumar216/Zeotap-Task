{
 "cells": [
  {
   "cell_type": "code",
   "execution_count": 11,
   "id": "bb20ca1c",
   "metadata": {},
   "outputs": [],
   "source": [
    "import pandas as pd\n",
    "from sklearn.preprocessing import MinMaxScaler\n",
    "from sklearn.metrics.pairwise import cosine_similarity"
   ]
  },
  {
   "cell_type": "code",
   "execution_count": 12,
   "id": "f27e0bda",
   "metadata": {},
   "outputs": [],
   "source": [
    "customers = pd.read_csv(r'C:\\Users\\91944\\OneDrive\\Desktop\\Project\\zeotap\\Customers.csv')\n",
    "products = pd.read_csv(r'C:\\Users\\91944\\OneDrive\\Desktop\\Project\\zeotap\\Products.csv')\n",
    "transactions = pd.read_csv(r'C:\\Users\\91944\\OneDrive\\Desktop\\Project\\zeotap\\Transactions.csv')"
   ]
  },
  {
   "cell_type": "code",
   "execution_count": 13,
   "id": "a10ebb1b",
   "metadata": {},
   "outputs": [
    {
     "name": "stdout",
     "output_type": "stream",
     "text": [
      "Lookalike.csv saved at: C:\\Users\\91944\\OneDrive\\Desktop\\Project\\zeotap\\Ashwin_Kumar_Lookalike.csv\n"
     ]
    }
   ],
   "source": [
    "transactions_products = pd.merge(transactions, products, on=\"ProductID\", how=\"left\")\n",
    "full_data = pd.merge(transactions_products, customers, on=\"CustomerID\", how=\"left\")\n",
    "\n",
    "customer_features = full_data.groupby(\"CustomerID\").agg(\n",
    "    total_spending=(\"TotalValue\", \"sum\"),\n",
    "    avg_transaction_value=(\"TotalValue\", \"mean\"),\n",
    "    total_transactions=(\"TransactionID\", \"count\"),\n",
    "    distinct_categories=(\"Category\", \"nunique\"),\n",
    "    region=(\"Region\", \"first\"), \n",
    ").reset_index()\n",
    "\n",
    "most_frequent_category = (\n",
    "    full_data.groupby([\"CustomerID\", \"Category\"])[\"TransactionID\"]\n",
    "    .count()\n",
    "    .reset_index()\n",
    "    .sort_values([\"CustomerID\", \"TransactionID\"], ascending=[True, False])\n",
    "    .drop_duplicates(subset=[\"CustomerID\"], keep=\"first\")\n",
    "    .rename(columns={\"Category\": \"top_category\"})\n",
    ")\n",
    "\n",
    "customer_features = pd.merge(customer_features, most_frequent_category[[\"CustomerID\", \"top_category\"]], on=\"CustomerID\")\n",
    "\n",
    "scaler = MinMaxScaler()\n",
    "numerical_features = [\"total_spending\", \"avg_transaction_value\", \"total_transactions\", \"distinct_categories\"]\n",
    "customer_features[numerical_features] = scaler.fit_transform(customer_features[numerical_features])\n",
    "\n",
    "encoded_features = pd.get_dummies(customer_features[[\"region\", \"top_category\"]])\n",
    "customer_features_encoded = pd.concat([customer_features[numerical_features], encoded_features], axis=1)\n",
    "\n",
    "similarity_matrix = cosine_similarity(customer_features_encoded)\n",
    "similarity_df = pd.DataFrame(similarity_matrix, index=customer_features[\"CustomerID\"], columns=customer_features[\"CustomerID\"])\n",
    "\n",
    "lookalike_map = {}\n",
    "for customer_id in customer_features[\"CustomerID\"][:20]:\n",
    "    similar_customers = (\n",
    "        similarity_df[customer_id]\n",
    "        .sort_values(ascending=False)\n",
    "        .iloc[1:4]  \n",
    "        .reset_index()\n",
    "        .rename(columns={customer_id: \"score\", \"index\": \"cust_id\"})\n",
    "    )\n",
    "    lookalike_map[customer_id] = similar_customers.values.tolist()\n",
    "\n",
    "lookalike_df = pd.DataFrame(\n",
    "    [(cust_id, row[0], row[1]) for cust_id, rows in lookalike_map.items() for row in rows],\n",
    "    columns=[\"cust_id\", \"lookalike_id\", \"score\"],\n",
    ")\n",
    "\n",
    "output_path = r'C:\\Users\\91944\\OneDrive\\Desktop\\Project\\zeotap\\Ashwin_Kumar_Lookalike.csv'\n",
    "lookalike_df.to_csv(output_path, index=False)\n",
    "\n",
    "print(f\"Lookalike.csv saved at: {output_path}\")"
   ]
  }
 ],
 "metadata": {
  "kernelspec": {
   "display_name": "Python 3 (ipykernel)",
   "language": "python",
   "name": "python3"
  },
  "language_info": {
   "codemirror_mode": {
    "name": "ipython",
    "version": 3
   },
   "file_extension": ".py",
   "mimetype": "text/x-python",
   "name": "python",
   "nbconvert_exporter": "python",
   "pygments_lexer": "ipython3",
   "version": "3.10.9"
  }
 },
 "nbformat": 4,
 "nbformat_minor": 5
}
